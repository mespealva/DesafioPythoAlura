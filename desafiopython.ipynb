{
  "nbformat": 4,
  "nbformat_minor": 0,
  "metadata": {
    "colab": {
      "provenance": [],
      "toc_visible": true,
      "include_colab_link": true
    },
    "kernelspec": {
      "name": "python3",
      "display_name": "Python 3"
    },
    "language_info": {
      "name": "python"
    }
  },
  "cells": [
    {
      "cell_type": "markdown",
      "metadata": {
        "id": "view-in-github",
        "colab_type": "text"
      },
      "source": [
        "<a href=\"https://colab.research.google.com/github/mespealva/DesafioPythoAlura/blob/main/desafiopython.ipynb\" target=\"_parent\"><img src=\"https://colab.research.google.com/assets/colab-badge.svg\" alt=\"Open In Colab\"/></a>"
      ]
    },
    {
      "cell_type": "markdown",
      "source": [
        "### Importación de datos\n",
        "\n"
      ],
      "metadata": {
        "id": "RhEdWd9YUR6H"
      }
    },
    {
      "cell_type": "code",
      "execution_count": 2,
      "metadata": {
        "colab": {
          "base_uri": "https://localhost:8080/",
          "height": 400
        },
        "id": "T3EvaeQ_INIL",
        "outputId": "b4e09055-366b-4eca-b10b-74b4259a6ad3"
      },
      "outputs": [
        {
          "output_type": "execute_result",
          "data": {
            "text/plain": [
              "            Producto Categoría del Producto    Precio  Costo de envío  \\\n",
              "0  Asistente virtual           Electrónicos  164300.0          6900.0   \n",
              "1    Mesa de comedor                Muebles  192300.0          8400.0   \n",
              "2      Juego de mesa               Juguetes  209600.0         15900.0   \n",
              "3         Microondas      Electrodomésticos  757500.0         41000.0   \n",
              "4   Silla de oficina                Muebles  335200.0         20200.0   \n",
              "\n",
              "  Fecha de Compra         Vendedor Lugar de Compra  Calificación  \\\n",
              "0      16/01/2021      Pedro Gomez          Bogotá             4   \n",
              "1      18/05/2022  Beatriz Morales        Medellín             1   \n",
              "2      15/03/2021   Juan Fernandez       Cartagena             1   \n",
              "3      03/05/2022   Juan Fernandez            Cali             4   \n",
              "4      07/11/2020    Maria Alfonso        Medellín             5   \n",
              "\n",
              "       Método de pago  Cantidad de cuotas       lat       lon  \n",
              "0  Tarjeta de crédito                   8   4.60971 -74.08175  \n",
              "1  Tarjeta de crédito                   4   6.25184 -75.56359  \n",
              "2  Tarjeta de crédito                   1  10.39972 -75.51444  \n",
              "3               Nequi                   1   3.43722 -76.52250  \n",
              "4               Nequi                   1   6.25184 -75.56359  "
            ],
            "text/html": [
              "\n",
              "  <div id=\"df-94c67c7c-eb52-4429-b030-65a1db70364e\" class=\"colab-df-container\">\n",
              "    <div>\n",
              "<style scoped>\n",
              "    .dataframe tbody tr th:only-of-type {\n",
              "        vertical-align: middle;\n",
              "    }\n",
              "\n",
              "    .dataframe tbody tr th {\n",
              "        vertical-align: top;\n",
              "    }\n",
              "\n",
              "    .dataframe thead th {\n",
              "        text-align: right;\n",
              "    }\n",
              "</style>\n",
              "<table border=\"1\" class=\"dataframe\">\n",
              "  <thead>\n",
              "    <tr style=\"text-align: right;\">\n",
              "      <th></th>\n",
              "      <th>Producto</th>\n",
              "      <th>Categoría del Producto</th>\n",
              "      <th>Precio</th>\n",
              "      <th>Costo de envío</th>\n",
              "      <th>Fecha de Compra</th>\n",
              "      <th>Vendedor</th>\n",
              "      <th>Lugar de Compra</th>\n",
              "      <th>Calificación</th>\n",
              "      <th>Método de pago</th>\n",
              "      <th>Cantidad de cuotas</th>\n",
              "      <th>lat</th>\n",
              "      <th>lon</th>\n",
              "    </tr>\n",
              "  </thead>\n",
              "  <tbody>\n",
              "    <tr>\n",
              "      <th>0</th>\n",
              "      <td>Asistente virtual</td>\n",
              "      <td>Electrónicos</td>\n",
              "      <td>164300.0</td>\n",
              "      <td>6900.0</td>\n",
              "      <td>16/01/2021</td>\n",
              "      <td>Pedro Gomez</td>\n",
              "      <td>Bogotá</td>\n",
              "      <td>4</td>\n",
              "      <td>Tarjeta de crédito</td>\n",
              "      <td>8</td>\n",
              "      <td>4.60971</td>\n",
              "      <td>-74.08175</td>\n",
              "    </tr>\n",
              "    <tr>\n",
              "      <th>1</th>\n",
              "      <td>Mesa de comedor</td>\n",
              "      <td>Muebles</td>\n",
              "      <td>192300.0</td>\n",
              "      <td>8400.0</td>\n",
              "      <td>18/05/2022</td>\n",
              "      <td>Beatriz Morales</td>\n",
              "      <td>Medellín</td>\n",
              "      <td>1</td>\n",
              "      <td>Tarjeta de crédito</td>\n",
              "      <td>4</td>\n",
              "      <td>6.25184</td>\n",
              "      <td>-75.56359</td>\n",
              "    </tr>\n",
              "    <tr>\n",
              "      <th>2</th>\n",
              "      <td>Juego de mesa</td>\n",
              "      <td>Juguetes</td>\n",
              "      <td>209600.0</td>\n",
              "      <td>15900.0</td>\n",
              "      <td>15/03/2021</td>\n",
              "      <td>Juan Fernandez</td>\n",
              "      <td>Cartagena</td>\n",
              "      <td>1</td>\n",
              "      <td>Tarjeta de crédito</td>\n",
              "      <td>1</td>\n",
              "      <td>10.39972</td>\n",
              "      <td>-75.51444</td>\n",
              "    </tr>\n",
              "    <tr>\n",
              "      <th>3</th>\n",
              "      <td>Microondas</td>\n",
              "      <td>Electrodomésticos</td>\n",
              "      <td>757500.0</td>\n",
              "      <td>41000.0</td>\n",
              "      <td>03/05/2022</td>\n",
              "      <td>Juan Fernandez</td>\n",
              "      <td>Cali</td>\n",
              "      <td>4</td>\n",
              "      <td>Nequi</td>\n",
              "      <td>1</td>\n",
              "      <td>3.43722</td>\n",
              "      <td>-76.52250</td>\n",
              "    </tr>\n",
              "    <tr>\n",
              "      <th>4</th>\n",
              "      <td>Silla de oficina</td>\n",
              "      <td>Muebles</td>\n",
              "      <td>335200.0</td>\n",
              "      <td>20200.0</td>\n",
              "      <td>07/11/2020</td>\n",
              "      <td>Maria Alfonso</td>\n",
              "      <td>Medellín</td>\n",
              "      <td>5</td>\n",
              "      <td>Nequi</td>\n",
              "      <td>1</td>\n",
              "      <td>6.25184</td>\n",
              "      <td>-75.56359</td>\n",
              "    </tr>\n",
              "  </tbody>\n",
              "</table>\n",
              "</div>\n",
              "    <div class=\"colab-df-buttons\">\n",
              "\n",
              "  <div class=\"colab-df-container\">\n",
              "    <button class=\"colab-df-convert\" onclick=\"convertToInteractive('df-94c67c7c-eb52-4429-b030-65a1db70364e')\"\n",
              "            title=\"Convert this dataframe to an interactive table.\"\n",
              "            style=\"display:none;\">\n",
              "\n",
              "  <svg xmlns=\"http://www.w3.org/2000/svg\" height=\"24px\" viewBox=\"0 -960 960 960\">\n",
              "    <path d=\"M120-120v-720h720v720H120Zm60-500h600v-160H180v160Zm220 220h160v-160H400v160Zm0 220h160v-160H400v160ZM180-400h160v-160H180v160Zm440 0h160v-160H620v160ZM180-180h160v-160H180v160Zm440 0h160v-160H620v160Z\"/>\n",
              "  </svg>\n",
              "    </button>\n",
              "\n",
              "  <style>\n",
              "    .colab-df-container {\n",
              "      display:flex;\n",
              "      gap: 12px;\n",
              "    }\n",
              "\n",
              "    .colab-df-convert {\n",
              "      background-color: #E8F0FE;\n",
              "      border: none;\n",
              "      border-radius: 50%;\n",
              "      cursor: pointer;\n",
              "      display: none;\n",
              "      fill: #1967D2;\n",
              "      height: 32px;\n",
              "      padding: 0 0 0 0;\n",
              "      width: 32px;\n",
              "    }\n",
              "\n",
              "    .colab-df-convert:hover {\n",
              "      background-color: #E2EBFA;\n",
              "      box-shadow: 0px 1px 2px rgba(60, 64, 67, 0.3), 0px 1px 3px 1px rgba(60, 64, 67, 0.15);\n",
              "      fill: #174EA6;\n",
              "    }\n",
              "\n",
              "    .colab-df-buttons div {\n",
              "      margin-bottom: 4px;\n",
              "    }\n",
              "\n",
              "    [theme=dark] .colab-df-convert {\n",
              "      background-color: #3B4455;\n",
              "      fill: #D2E3FC;\n",
              "    }\n",
              "\n",
              "    [theme=dark] .colab-df-convert:hover {\n",
              "      background-color: #434B5C;\n",
              "      box-shadow: 0px 1px 3px 1px rgba(0, 0, 0, 0.15);\n",
              "      filter: drop-shadow(0px 1px 2px rgba(0, 0, 0, 0.3));\n",
              "      fill: #FFFFFF;\n",
              "    }\n",
              "  </style>\n",
              "\n",
              "    <script>\n",
              "      const buttonEl =\n",
              "        document.querySelector('#df-94c67c7c-eb52-4429-b030-65a1db70364e button.colab-df-convert');\n",
              "      buttonEl.style.display =\n",
              "        google.colab.kernel.accessAllowed ? 'block' : 'none';\n",
              "\n",
              "      async function convertToInteractive(key) {\n",
              "        const element = document.querySelector('#df-94c67c7c-eb52-4429-b030-65a1db70364e');\n",
              "        const dataTable =\n",
              "          await google.colab.kernel.invokeFunction('convertToInteractive',\n",
              "                                                    [key], {});\n",
              "        if (!dataTable) return;\n",
              "\n",
              "        const docLinkHtml = 'Like what you see? Visit the ' +\n",
              "          '<a target=\"_blank\" href=https://colab.research.google.com/notebooks/data_table.ipynb>data table notebook</a>'\n",
              "          + ' to learn more about interactive tables.';\n",
              "        element.innerHTML = '';\n",
              "        dataTable['output_type'] = 'display_data';\n",
              "        await google.colab.output.renderOutput(dataTable, element);\n",
              "        const docLink = document.createElement('div');\n",
              "        docLink.innerHTML = docLinkHtml;\n",
              "        element.appendChild(docLink);\n",
              "      }\n",
              "    </script>\n",
              "  </div>\n",
              "\n",
              "\n",
              "    <div id=\"df-d373878b-33f8-4044-87fb-bc83adb66026\">\n",
              "      <button class=\"colab-df-quickchart\" onclick=\"quickchart('df-d373878b-33f8-4044-87fb-bc83adb66026')\"\n",
              "                title=\"Suggest charts\"\n",
              "                style=\"display:none;\">\n",
              "\n",
              "<svg xmlns=\"http://www.w3.org/2000/svg\" height=\"24px\"viewBox=\"0 0 24 24\"\n",
              "     width=\"24px\">\n",
              "    <g>\n",
              "        <path d=\"M19 3H5c-1.1 0-2 .9-2 2v14c0 1.1.9 2 2 2h14c1.1 0 2-.9 2-2V5c0-1.1-.9-2-2-2zM9 17H7v-7h2v7zm4 0h-2V7h2v10zm4 0h-2v-4h2v4z\"/>\n",
              "    </g>\n",
              "</svg>\n",
              "      </button>\n",
              "\n",
              "<style>\n",
              "  .colab-df-quickchart {\n",
              "      --bg-color: #E8F0FE;\n",
              "      --fill-color: #1967D2;\n",
              "      --hover-bg-color: #E2EBFA;\n",
              "      --hover-fill-color: #174EA6;\n",
              "      --disabled-fill-color: #AAA;\n",
              "      --disabled-bg-color: #DDD;\n",
              "  }\n",
              "\n",
              "  [theme=dark] .colab-df-quickchart {\n",
              "      --bg-color: #3B4455;\n",
              "      --fill-color: #D2E3FC;\n",
              "      --hover-bg-color: #434B5C;\n",
              "      --hover-fill-color: #FFFFFF;\n",
              "      --disabled-bg-color: #3B4455;\n",
              "      --disabled-fill-color: #666;\n",
              "  }\n",
              "\n",
              "  .colab-df-quickchart {\n",
              "    background-color: var(--bg-color);\n",
              "    border: none;\n",
              "    border-radius: 50%;\n",
              "    cursor: pointer;\n",
              "    display: none;\n",
              "    fill: var(--fill-color);\n",
              "    height: 32px;\n",
              "    padding: 0;\n",
              "    width: 32px;\n",
              "  }\n",
              "\n",
              "  .colab-df-quickchart:hover {\n",
              "    background-color: var(--hover-bg-color);\n",
              "    box-shadow: 0 1px 2px rgba(60, 64, 67, 0.3), 0 1px 3px 1px rgba(60, 64, 67, 0.15);\n",
              "    fill: var(--button-hover-fill-color);\n",
              "  }\n",
              "\n",
              "  .colab-df-quickchart-complete:disabled,\n",
              "  .colab-df-quickchart-complete:disabled:hover {\n",
              "    background-color: var(--disabled-bg-color);\n",
              "    fill: var(--disabled-fill-color);\n",
              "    box-shadow: none;\n",
              "  }\n",
              "\n",
              "  .colab-df-spinner {\n",
              "    border: 2px solid var(--fill-color);\n",
              "    border-color: transparent;\n",
              "    border-bottom-color: var(--fill-color);\n",
              "    animation:\n",
              "      spin 1s steps(1) infinite;\n",
              "  }\n",
              "\n",
              "  @keyframes spin {\n",
              "    0% {\n",
              "      border-color: transparent;\n",
              "      border-bottom-color: var(--fill-color);\n",
              "      border-left-color: var(--fill-color);\n",
              "    }\n",
              "    20% {\n",
              "      border-color: transparent;\n",
              "      border-left-color: var(--fill-color);\n",
              "      border-top-color: var(--fill-color);\n",
              "    }\n",
              "    30% {\n",
              "      border-color: transparent;\n",
              "      border-left-color: var(--fill-color);\n",
              "      border-top-color: var(--fill-color);\n",
              "      border-right-color: var(--fill-color);\n",
              "    }\n",
              "    40% {\n",
              "      border-color: transparent;\n",
              "      border-right-color: var(--fill-color);\n",
              "      border-top-color: var(--fill-color);\n",
              "    }\n",
              "    60% {\n",
              "      border-color: transparent;\n",
              "      border-right-color: var(--fill-color);\n",
              "    }\n",
              "    80% {\n",
              "      border-color: transparent;\n",
              "      border-right-color: var(--fill-color);\n",
              "      border-bottom-color: var(--fill-color);\n",
              "    }\n",
              "    90% {\n",
              "      border-color: transparent;\n",
              "      border-bottom-color: var(--fill-color);\n",
              "    }\n",
              "  }\n",
              "</style>\n",
              "\n",
              "      <script>\n",
              "        async function quickchart(key) {\n",
              "          const quickchartButtonEl =\n",
              "            document.querySelector('#' + key + ' button');\n",
              "          quickchartButtonEl.disabled = true;  // To prevent multiple clicks.\n",
              "          quickchartButtonEl.classList.add('colab-df-spinner');\n",
              "          try {\n",
              "            const charts = await google.colab.kernel.invokeFunction(\n",
              "                'suggestCharts', [key], {});\n",
              "          } catch (error) {\n",
              "            console.error('Error during call to suggestCharts:', error);\n",
              "          }\n",
              "          quickchartButtonEl.classList.remove('colab-df-spinner');\n",
              "          quickchartButtonEl.classList.add('colab-df-quickchart-complete');\n",
              "        }\n",
              "        (() => {\n",
              "          let quickchartButtonEl =\n",
              "            document.querySelector('#df-d373878b-33f8-4044-87fb-bc83adb66026 button');\n",
              "          quickchartButtonEl.style.display =\n",
              "            google.colab.kernel.accessAllowed ? 'block' : 'none';\n",
              "        })();\n",
              "      </script>\n",
              "    </div>\n",
              "\n",
              "    </div>\n",
              "  </div>\n"
            ],
            "application/vnd.google.colaboratory.intrinsic+json": {
              "type": "dataframe",
              "variable_name": "tienda",
              "summary": "{\n  \"name\": \"tienda\",\n  \"rows\": 2359,\n  \"fields\": [\n    {\n      \"column\": \"Producto\",\n      \"properties\": {\n        \"dtype\": \"category\",\n        \"num_unique_values\": 51,\n        \"samples\": [\n          \"Guitarra ac\\u00fastica\",\n          \"Bal\\u00f3n de baloncesto\",\n          \"Smartwatch\"\n        ],\n        \"semantic_type\": \"\",\n        \"description\": \"\"\n      }\n    },\n    {\n      \"column\": \"Categor\\u00eda del Producto\",\n      \"properties\": {\n        \"dtype\": \"category\",\n        \"num_unique_values\": 8,\n        \"samples\": [\n          \"Muebles\",\n          \"Deportes y diversi\\u00f3n\",\n          \"Electr\\u00f3nicos\"\n        ],\n        \"semantic_type\": \"\",\n        \"description\": \"\"\n      }\n    },\n    {\n      \"column\": \"Precio\",\n      \"properties\": {\n        \"dtype\": \"number\",\n        \"std\": 614686.7653873172,\n        \"min\": 7600.0,\n        \"max\": 2977000.0,\n        \"num_unique_values\": 1937,\n        \"samples\": [\n          2499400.0,\n          14800.0,\n          80500.0\n        ],\n        \"semantic_type\": \"\",\n        \"description\": \"\"\n      }\n    },\n    {\n      \"column\": \"Costo de env\\u00edo\",\n      \"properties\": {\n        \"dtype\": \"number\",\n        \"std\": 32860.0017825605,\n        \"min\": 0.0,\n        \"max\": 160800.0,\n        \"num_unique_values\": 753,\n        \"samples\": [\n          117800.0,\n          54700.0,\n          45600.0\n        ],\n        \"semantic_type\": \"\",\n        \"description\": \"\"\n      }\n    },\n    {\n      \"column\": \"Fecha de Compra\",\n      \"properties\": {\n        \"dtype\": \"object\",\n        \"num_unique_values\": 1018,\n        \"samples\": [\n          \"15/09/2022\",\n          \"03/06/2020\",\n          \"06/11/2021\"\n        ],\n        \"semantic_type\": \"\",\n        \"description\": \"\"\n      }\n    },\n    {\n      \"column\": \"Vendedor\",\n      \"properties\": {\n        \"dtype\": \"category\",\n        \"num_unique_values\": 14,\n        \"samples\": [\n          \"Juliana Costa\",\n          \"Mariana Herrera\",\n          \"Pedro Gomez\"\n        ],\n        \"semantic_type\": \"\",\n        \"description\": \"\"\n      }\n    },\n    {\n      \"column\": \"Lugar de Compra\",\n      \"properties\": {\n        \"dtype\": \"category\",\n        \"num_unique_values\": 19,\n        \"samples\": [\n          \"Bogot\\u00e1\",\n          \"Pereira\",\n          \"Neiva\"\n        ],\n        \"semantic_type\": \"\",\n        \"description\": \"\"\n      }\n    },\n    {\n      \"column\": \"Calificaci\\u00f3n\",\n      \"properties\": {\n        \"dtype\": \"number\",\n        \"std\": 1,\n        \"min\": 1,\n        \"max\": 5,\n        \"num_unique_values\": 5,\n        \"samples\": [\n          1,\n          2,\n          5\n        ],\n        \"semantic_type\": \"\",\n        \"description\": \"\"\n      }\n    },\n    {\n      \"column\": \"M\\u00e9todo de pago\",\n      \"properties\": {\n        \"dtype\": \"category\",\n        \"num_unique_values\": 4,\n        \"samples\": [\n          \"Nequi\",\n          \"Tarjeta de d\\u00e9bito\",\n          \"Tarjeta de cr\\u00e9dito\"\n        ],\n        \"semantic_type\": \"\",\n        \"description\": \"\"\n      }\n    },\n    {\n      \"column\": \"Cantidad de cuotas\",\n      \"properties\": {\n        \"dtype\": \"number\",\n        \"std\": 2,\n        \"min\": 1,\n        \"max\": 24,\n        \"num_unique_values\": 15,\n        \"samples\": [\n          7,\n          14,\n          8\n        ],\n        \"semantic_type\": \"\",\n        \"description\": \"\"\n      }\n    },\n    {\n      \"column\": \"lat\",\n      \"properties\": {\n        \"dtype\": \"number\",\n        \"std\": 2.2874452492678627,\n        \"min\": -4.21528,\n        \"max\": 11.54444,\n        \"num_unique_values\": 19,\n        \"samples\": [\n          4.60971,\n          4.81333,\n          2.9273\n        ],\n        \"semantic_type\": \"\",\n        \"description\": \"\"\n      }\n    },\n    {\n      \"column\": \"lon\",\n      \"properties\": {\n        \"dtype\": \"number\",\n        \"std\": 1.2178272727088486,\n        \"min\": -77.28111,\n        \"max\": -67.9239,\n        \"num_unique_values\": 19,\n        \"samples\": [\n          -74.08175,\n          -75.69611,\n          -75.28189\n        ],\n        \"semantic_type\": \"\",\n        \"description\": \"\"\n      }\n    }\n  ]\n}"
            }
          },
          "metadata": {},
          "execution_count": 2
        }
      ],
      "source": [
        "import pandas as pd\n",
        "\n",
        "url = \"https://raw.githubusercontent.com/alura-es-cursos/challenge1-data-science-latam/refs/heads/main/base-de-datos-challenge1-latam/tienda_1%20.csv\"\n",
        "url2 = \"https://raw.githubusercontent.com/alura-es-cursos/challenge1-data-science-latam/refs/heads/main/base-de-datos-challenge1-latam/tienda_2.csv\"\n",
        "url3 = \"https://raw.githubusercontent.com/alura-es-cursos/challenge1-data-science-latam/refs/heads/main/base-de-datos-challenge1-latam/tienda_3.csv\"\n",
        "url4 = \"https://raw.githubusercontent.com/alura-es-cursos/challenge1-data-science-latam/refs/heads/main/base-de-datos-challenge1-latam/tienda_4.csv\"\n",
        "\n",
        "tienda = pd.read_csv(url)\n",
        "tienda2 = pd.read_csv(url2)\n",
        "tienda3 = pd.read_csv(url3)\n",
        "tienda4 = pd.read_csv(url4)\n",
        "\n",
        "tienda.head()"
      ]
    },
    {
      "cell_type": "markdown",
      "source": [
        "#1. Análisis de facturación\n",
        "\n"
      ],
      "metadata": {
        "id": "X62IW3KFUIYm"
      }
    },
    {
      "cell_type": "markdown",
      "source": [
        "## Facturacion total por tienda"
      ],
      "metadata": {
        "id": "Yaw0VQTjGFoV"
      }
    },
    {
      "cell_type": "code",
      "source": [
        "from urllib.request import urlopen\n",
        "import csv\n",
        "\n",
        "urls = [url, url2, url3, url4]\n",
        "\n",
        "# LEER CSV CON URLLIB\n",
        "\n",
        "def leer_csv(url):\n",
        "    precios = []\n",
        "    with urlopen(url) as respuesta:\n",
        "        lineas = respuesta.read().decode('utf-8').splitlines()\n",
        "        lector = csv.DictReader(lineas)\n",
        "        for fila in lector:\n",
        "            precios.append(fila)\n",
        "    return precios\n",
        "total = leer_csv(url)\n",
        "#print(total)"
      ],
      "metadata": {
        "id": "jx7-7lQ1eZGP"
      },
      "execution_count": 3,
      "outputs": []
    },
    {
      "cell_type": "code",
      "source": [
        "total_ventas = 0\n",
        "totales= []\n",
        "for i, url in enumerate(urls):\n",
        "    datos_tienda = leer_csv(url)\n",
        "    total_tienda = 0\n",
        "\n",
        "\n",
        "    for venta in datos_tienda:\n",
        "        precio = float(venta['Precio'])  # Solo sumamos el precio\n",
        "        total_tienda += precio\n",
        "\n",
        "    print(f\"Facturación Tienda {i+1}: ${total_tienda:.2f}\")\n",
        "    factura = total_tienda\n",
        "    totales.append(factura)\n",
        "    total_ventas += total_tienda\n",
        "\n",
        "# Mostrar facturación total\n",
        "print(f\"\\nFacturación total de todas las tiendas: ${total_ventas:.2f}\")\n"
      ],
      "metadata": {
        "colab": {
          "base_uri": "https://localhost:8080/"
        },
        "id": "lNLYTxDye4DH",
        "outputId": "a4cc47a9-18b0-42de-e02f-092be43aa36d"
      },
      "execution_count": null,
      "outputs": [
        {
          "output_type": "stream",
          "name": "stdout",
          "text": [
            "Facturación Tienda 1: $1038375700.00\n",
            "Facturación Tienda 2: $1116343500.00\n",
            "Facturación Tienda 3: $1098019600.00\n",
            "Facturación Tienda 4: $1038375700.00\n",
            "\n",
            "Facturación total de todas las tiendas: $4291114500.00\n"
          ]
        }
      ]
    },
    {
      "cell_type": "code",
      "source": [
        "import matplotlib.pyplot as plt\n",
        "\n",
        "plt.bar(urls,totales)\n",
        "\n",
        "\n",
        "maximo = max(totales)\n",
        "indicemax = totales.index(maximo)+1\n",
        "minimo = min(totales)\n",
        "indicemin = totales.index(minimo)+1\n",
        "print(f\"\\nLa tienda con menos ventas es {indicemin}, con {minimo} y la tienda con mas ventas es la {indicemax}, con {maximo}\")"
      ],
      "metadata": {
        "colab": {
          "base_uri": "https://localhost:8080/",
          "height": 407
        },
        "id": "8A1hGhhxgwGZ",
        "outputId": "7a5df667-c455-41d4-e9e5-5960e80dc30f"
      },
      "execution_count": null,
      "outputs": [
        {
          "output_type": "stream",
          "name": "stdout",
          "text": [
            "\n",
            "La tienda con menos ventas es 4, con 1038375700.0 y la tienda con mas ventas es la 1, con 1150880400.0\n"
          ]
        },
        {
          "output_type": "display_data",
          "data": {
            "text/plain": [
              "<Figure size 640x480 with 1 Axes>"
            ],
            "image/png": "[encoded data removed]"
          },
          "metadata": {}
        }
      ]
    },
    {
      "cell_type": "markdown",
      "source": [
        "# 2. Ventas por categoría"
      ],
      "metadata": {
        "id": "2V_vcAPzWZmR"
      }
    },
    {
      "cell_type": "markdown",
      "source": [
        "## Categorias más importantes"
      ],
      "metadata": {
        "id": "Va1FSA1SHLOa"
      }
    },
    {
      "cell_type": "code",
      "source": [
        "from urllib.request import urlopen\n",
        "import csv\n",
        "\n",
        "urls = [url, url2, url3, url4]\n",
        "def leer_csv(url):\n",
        "  datos = []\n",
        "  with urlopen(url) as respuesta:\n",
        "      lineas = respuesta.read().decode('utf-8').splitlines()\n",
        "      reader = csv.DictReader(lineas)\n",
        "\n",
        "      for fila in reader:\n",
        "            datos.append(fila)\n",
        "\n",
        "  return datos\n",
        "\n",
        "ventas_por_categoria = {}\n",
        "maximos =[]\n",
        "print(\"Ventas por categoria:\")\n",
        "for i, url in enumerate(urls):\n",
        "    datos_tienda = leer_csv(url)\n",
        "    print(f\"\\nTienda {i+1}:\")\n",
        "\n",
        "    categorias_tienda = {}\n",
        "\n",
        "    for venta in datos_tienda:\n",
        "        categoria = venta['Categoría del Producto']\n",
        "        precio = float(venta['Precio'])\n",
        "        cantidad = int(venta['Cantidad de cuotas'])\n",
        "        monto_venta = precio * cantidad\n",
        "\n",
        "        if categoria in categorias_tienda:\n",
        "            categorias_tienda[categoria] += monto_venta\n",
        "        else:\n",
        "            categorias_tienda[categoria] = monto_venta\n",
        "\n",
        "        if categoria in ventas_por_categoria:\n",
        "            ventas_por_categoria[categoria] += monto_venta\n",
        "        else:\n",
        "            ventas_por_categoria[categoria] = monto_venta\n",
        "\n",
        "    maximo = max(ventas_por_categoria.values())\n",
        "    maximos.append(maximo)\n",
        "\n",
        "    for categoria, monto in categorias_tienda.items():\n",
        "      print(f\"  {categoria}: ${monto:.2f}\")\n",
        "    print(f'La categoria con mayores ingresos es {list(ventas_por_categoria.keys())[list(ventas_por_categoria.values()).index(maximo)]} con ${maximo} en ventas en esta tienda')\n",
        "\n",
        "\n",
        "print(\"\\nVentas totales por categoría (todas las tiendas):\")\n",
        "for categoria, monto in ventas_por_categoria.items():\n",
        "    print(f\"  {categoria}: ${monto:.2f}\")\n",
        "\n",
        "\n",
        "total_general = sum(ventas_por_categoria.values())\n",
        "\n",
        "print(f\"\\nTotal general de ventas: ${total_general:.2f}\")"
      ],
      "metadata": {
        "id": "A34YupIuYhfF",
        "colab": {
          "base_uri": "https://localhost:8080/"
        },
        "outputId": "32a20f28-7972-4b13-9a30-80ebcab31c3d"
      },
      "execution_count": null,
      "outputs": [
        {
          "output_type": "stream",
          "name": "stdout",
          "text": [
            "Ventas por categoria:\n",
            "\n",
            "Tienda 1:\n",
            "  Electrodomésticos: $879089600.00\n",
            "  Muebles: $556628000.00\n",
            "  Deportes y diversión: $100062000.00\n",
            "  Libros: $29543400.00\n",
            "  Electrónicos: $1211446500.00\n",
            "  Instrumentos musicales: $222837200.00\n",
            "  Juguetes: $54641200.00\n",
            "  Artículos para el hogar: $44579300.00\n",
            "La categoria con mayores ingresos es Electrónicos con $1211446500.0 en ventas en esta tienda\n",
            "\n",
            "Tienda 2:\n",
            "  Muebles: $527332100.00\n",
            "  Instrumentos musicales: $294448700.00\n",
            "  Deportes y diversión: $81660600.00\n",
            "  Electrónicos: $1286643600.00\n",
            "  Artículos para el hogar: $42739700.00\n",
            "  Juguetes: $46721200.00\n",
            "  Electrodomésticos: $1026226300.00\n",
            "  Libros: $31417000.00\n",
            "La categoria con mayores ingresos es Electrónicos con $2498090100.0 en ventas en esta tienda\n",
            "\n",
            "Tienda 3:\n",
            "  Electrodomésticos: $1081380800.00\n",
            "  Muebles: $555092500.00\n",
            "  Instrumentos musicales: $250336000.00\n",
            "  Deportes y diversión: $123399200.00\n",
            "  Electrónicos: $1101334500.00\n",
            "  Juguetes: $61190400.00\n",
            "  Artículos para el hogar: $44724600.00\n",
            "  Libros: $26358900.00\n",
            "La categoria con mayores ingresos es Electrónicos con $3599424600.0 en ventas en esta tienda\n",
            "\n",
            "Tienda 4:\n",
            "  Electrodomésticos: $879089600.00\n",
            "  Muebles: $556628000.00\n",
            "  Deportes y diversión: $100062000.00\n",
            "  Libros: $29543400.00\n",
            "  Electrónicos: $1211446500.00\n",
            "  Instrumentos musicales: $222837200.00\n",
            "  Juguetes: $54641200.00\n",
            "  Artículos para el hogar: $44579300.00\n",
            "La categoria con mayores ingresos es Electrónicos con $4810871100.0 en ventas en esta tienda\n",
            "\n",
            "Ventas totales por categoría (todas las tiendas):\n",
            "  Electrodomésticos: $3865786300.00\n",
            "  Muebles: $2195680600.00\n",
            "  Deportes y diversión: $405183800.00\n",
            "  Libros: $116862700.00\n",
            "  Electrónicos: $4810871100.00\n",
            "  Instrumentos musicales: $990459100.00\n",
            "  Juguetes: $217194000.00\n",
            "  Artículos para el hogar: $176622900.00\n",
            "\n",
            "Total general de ventas: $12778660500.00\n"
          ]
        }
      ]
    },
    {
      "cell_type": "code",
      "source": [
        "# sabiendo, con la informacion anterior, que la categoria mas vendida en todas las tiendas es electronicos\n",
        "# calculo el total de ventas de esta categoria sumando todas las tiendas\n",
        "\n",
        "print(f'El total de ventas de electronicos sumando todas las tiendas es ${sum(maximos)}')"
      ],
      "metadata": {
        "id": "yZR6cOjXYSk1",
        "colab": {
          "base_uri": "https://localhost:8080/"
        },
        "outputId": "11fc1d95-a5be-46d2-e8f1-eed5ccdd20e2"
      },
      "execution_count": null,
      "outputs": [
        {
          "output_type": "stream",
          "name": "stdout",
          "text": [
            "El total de ventas de electronicos sumando todas las tiendas es $12119832300.0\n"
          ]
        }
      ]
    },
    {
      "cell_type": "markdown",
      "source": [
        "# 3. Calificación promedio de la tienda\n"
      ],
      "metadata": {
        "id": "Rq6tU_xSY3jk"
      }
    },
    {
      "cell_type": "code",
      "source": [
        "def leer_csv(url):\n",
        "    datos = []\n",
        "    with urlopen(url) as respuesta:\n",
        "        lineas = respuesta.read().decode('utf-8').splitlines()\n",
        "        reader = csv.DictReader(lineas)\n",
        "        for fila in reader:\n",
        "            datos.append(fila)\n",
        "    return datos\n",
        "ranking = {}\n",
        "\n",
        "def clasificacion_promedio(tienda, numero):\n",
        "    promedio = tienda['Calificación'].mean()\n",
        "    ranking[numero]= [promedio]\n",
        "    print(f\"Clasificación promedio en Tienda {numero}: {promedio:.2f}\")\n",
        "\n",
        "clasificacion_promedio(tienda, 1)\n",
        "clasificacion_promedio(tienda2, 2)\n",
        "clasificacion_promedio(tienda3, 3)\n",
        "clasificacion_promedio(tienda4, 4)"
      ],
      "metadata": {
        "id": "bh3jjjJwY5MU",
        "colab": {
          "base_uri": "https://localhost:8080/"
        },
        "outputId": "630a8625-fff5-46d6-f3c3-f19103527817"
      },
      "execution_count": null,
      "outputs": [
        {
          "output_type": "stream",
          "name": "stdout",
          "text": [
            "Clasificación promedio en Tienda 1: 3.98\n",
            "Clasificación promedio en Tienda 2: 4.04\n",
            "Clasificación promedio en Tienda 3: 4.05\n",
            "Clasificación promedio en Tienda 4: 4.00\n"
          ]
        }
      ]
    },
    {
      "cell_type": "code",
      "source": [
        "maximo = max(ranking.values())\n",
        "print(f'La tienda con mejores evaluaciones es la tienda {list(ranking.keys())[list(ranking.values()).index(maximo)]}')"
      ],
      "metadata": {
        "id": "I0KkjPoTY88F",
        "colab": {
          "base_uri": "https://localhost:8080/"
        },
        "outputId": "2d1fdb76-1e48-488f-88a8-8fd60ed53ed0"
      },
      "execution_count": null,
      "outputs": [
        {
          "output_type": "stream",
          "name": "stdout",
          "text": [
            "La tienda con mejores evaluaciones es la tienda 3\n"
          ]
        }
      ]
    },
    {
      "cell_type": "markdown",
      "source": [
        "# 4. Productos más y menos vendidos"
      ],
      "metadata": {
        "id": "DmNp1KPBZCm-"
      }
    },
    {
      "cell_type": "code",
      "source": [
        "import itertools\n",
        "tiendas = [tienda, tienda2, tienda3, tienda4]\n",
        "\n",
        "def conteo(sucursales):\n",
        "    for i, tienda in enumerate(sucursales):\n",
        "        print(f\"\\nTienda {i + 1}\")\n",
        "        conteo_productos = tienda['Producto'].value_counts()\n",
        "        productos = conteo_productos.to_dict()\n",
        "        total = len(productos)\n",
        "        print(\"\\nLos productos mas vendidos son: \")\n",
        "\n",
        "        for clave, valor in itertools.islice(productos.items(), 3):\n",
        "            print(f'   {clave}: {valor} unidades vendidas')\n",
        "        print(\"Los productos menos vendidos son: \")\n",
        "        for clave, valor in itertools.islice(productos.items(), (total - 3), total):\n",
        "            print(f'   {clave}: {valor} unidades vendidas')\n",
        "\n",
        "conteo(tiendas)\n"
      ],
      "metadata": {
        "colab": {
          "base_uri": "https://localhost:8080/"
        },
        "id": "B_cTpm6Lt8Dz",
        "outputId": "a67a43e6-f1ac-40e9-c010-682502505763"
      },
      "execution_count": null,
      "outputs": [
        {
          "output_type": "stream",
          "name": "stdout",
          "text": [
            "\n",
            "Tienda 1\n",
            "\n",
            "Los productos mas vendidos son: \n",
            "   Microondas: 60 unidades vendidas\n",
            "   TV LED UHD 4K: 60 unidades vendidas\n",
            "   Armario: 60 unidades vendidas\n",
            "Los productos menos vendidos son: \n",
            "   Olla de presión: 35 unidades vendidas\n",
            "   Auriculares con micrófono: 33 unidades vendidas\n",
            "   Celular ABXY: 33 unidades vendidas\n",
            "\n",
            "Tienda 2\n",
            "\n",
            "Los productos mas vendidos son: \n",
            "   Iniciando en programación: 65 unidades vendidas\n",
            "   Microondas: 62 unidades vendidas\n",
            "   Batería: 61 unidades vendidas\n",
            "Los productos menos vendidos son: \n",
            "   Mesa de comedor: 34 unidades vendidas\n",
            "   Impresora: 34 unidades vendidas\n",
            "   Juego de mesa: 32 unidades vendidas\n",
            "\n",
            "Tienda 3\n",
            "\n",
            "Los productos mas vendidos son: \n",
            "   Kit de bancas: 57 unidades vendidas\n",
            "   Mesa de comedor: 56 unidades vendidas\n",
            "   Cama king: 56 unidades vendidas\n",
            "Los productos menos vendidos son: \n",
            "   Mochila: 36 unidades vendidas\n",
            "   Microondas: 36 unidades vendidas\n",
            "   Bloques de construcción: 35 unidades vendidas\n",
            "\n",
            "Tienda 4\n",
            "\n",
            "Los productos mas vendidos son: \n",
            "   Cama box: 62 unidades vendidas\n",
            "   Cubertería: 59 unidades vendidas\n",
            "   Dashboards con Power BI: 56 unidades vendidas\n",
            "Los productos menos vendidos son: \n",
            "   Guitarra acústica: 37 unidades vendidas\n",
            "   Armario: 34 unidades vendidas\n",
            "   Guitarra eléctrica: 33 unidades vendidas\n"
          ]
        }
      ]
    },
    {
      "cell_type": "markdown",
      "source": [
        "# 5. Envío promedio por tienda"
      ],
      "metadata": {
        "id": "Fl0cGi3bZKqU"
      }
    },
    {
      "cell_type": "code",
      "source": [
        "def calcular_envio_promedio(datos_tienda, tienda_numero):\n",
        "    costos_envio = []\n",
        "\n",
        "    for venta in datos_tienda:\n",
        "        costo_envio = float(venta['Costo de envío'])\n",
        "        costos_envio.append(costo_envio)\n",
        "\n",
        "    promedio_envio = sum(costos_envio) / len(costos_envio) if costos_envio else 0\n",
        "\n",
        "    print(f\"Tienda {tienda_numero} - Envío promedio: ${promedio_envio:.2f}\")\n",
        "\n",
        "# Procesar todas las tiendas\n",
        "for i, url in enumerate(urls, start=1):\n",
        "    datos_tienda = leer_csv(url)\n",
        "    calcular_envio_promedio(datos_tienda, i)"
      ],
      "metadata": {
        "id": "S2JeaCykZNy9",
        "colab": {
          "base_uri": "https://localhost:8080/"
        },
        "outputId": "eeca9a27-9333-4066-e1a6-f6ce516a7863"
      },
      "execution_count": null,
      "outputs": [
        {
          "output_type": "stream",
          "name": "stdout",
          "text": [
            "Tienda 1 - Envío promedio: $23459.46\n",
            "Tienda 2 - Envío promedio: $25216.24\n",
            "Tienda 3 - Envío promedio: $24805.68\n",
            "Tienda 4 - Envío promedio: $23459.46\n"
          ]
        }
      ]
    },
    {
      "cell_type": "markdown",
      "source": [
        "# Vizualizacion"
      ],
      "metadata": {
        "id": "sRzXT-ydHD6s"
      }
    }
  ]
}